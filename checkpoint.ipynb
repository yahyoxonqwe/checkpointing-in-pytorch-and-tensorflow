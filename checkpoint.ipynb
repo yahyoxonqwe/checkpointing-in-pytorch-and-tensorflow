{
 "cells": [
  {
   "cell_type": "markdown",
   "id": "f8bafd57-20e3-41d6-84bd-33b40021ce9f",
   "metadata": {},
   "source": [
    "# tensorflow "
   ]
  },
  {
   "cell_type": "code",
   "execution_count": 2,
   "id": "4875e469-288f-47b8-b91a-ef3836d40828",
   "metadata": {},
   "outputs": [],
   "source": [
    "import tensorflow as tf\n",
    "import numpy as np\n",
    "import matplotlib.pyplot as plt"
   ]
  },
  {
   "cell_type": "code",
   "execution_count": 3,
   "id": "41b4c686-71ad-43a0-af81-c6412ffe69b8",
   "metadata": {},
   "outputs": [],
   "source": [
    "(train_x , train_y) , (test_x , test_y) = tf.keras.datasets.mnist.load_data()"
   ]
  },
  {
   "cell_type": "code",
   "execution_count": 4,
   "id": "02e6b862-e110-4172-8d02-0e16f58ee9d6",
   "metadata": {},
   "outputs": [
    {
     "data": {
      "image/png": "[encoded data removed]",
      "text/plain": [
       "<Figure size 600x600 with 9 Axes>"
      ]
     },
     "metadata": {},
     "output_type": "display_data"
    }
   ],
   "source": [
    "fig, axes = plt.subplots(nrows=3, ncols=3, figsize=(6,6))\n",
    "\n",
    "for i, ax in enumerate(axes.flat):\n",
    "    ax.imshow(train_x[i], cmap='gray', interpolation='none')\n",
    "    ax.set_title(\"Class {}\".format(train_y[i]))\n",
    "    ax.axis('off')\n",
    "\n",
    "plt.subplots_adjust(wspace=0.4, hspace=0.4)\n",
    "plt.show()"
   ]
  },
  {
   "cell_type": "code",
   "execution_count": 5,
   "id": "aa1abfdd-0f4f-4485-a950-4fed1a77b962",
   "metadata": {},
   "outputs": [],
   "source": [
    "train_x = train_x.astype(\"float32\") / 255\n",
    "test_x = test_x.astype(\"float32\") / 255\n",
    "train_x = np.expand_dims(train_x, -1)\n",
    "test_x = np.expand_dims(test_x, -1)"
   ]
  },
  {
   "cell_type": "code",
   "execution_count": 6,
   "id": "c702a90f-e479-4be7-9f6d-ecbd9fd74419",
   "metadata": {},
   "outputs": [
    {
     "data": {
      "text/plain": [
       "((60000, 28, 28, 1), (60000,))"
      ]
     },
     "execution_count": 6,
     "metadata": {},
     "output_type": "execute_result"
    }
   ],
   "source": [
    "train_x.shape , train_y.shape"
   ]
  },
  {
   "cell_type": "code",
   "execution_count": 8,
   "id": "65438199-803c-42f0-a30e-a0c26eeb6037",
   "metadata": {},
   "outputs": [],
   "source": [
    "model = tf.keras.Sequential([\n",
    "        tf.keras.Input(shape=[28,28 ,1]),\n",
    "        tf.keras.layers.Conv2D(32, kernel_size=(3, 3) , padding = 'same' , activation = 'relu'),\n",
    "        tf.keras.layers.MaxPooling2D(pool_size=(2, 2)),\n",
    "        tf.keras.layers.Conv2D(64, kernel_size=(3, 3) , padding = 'same' , activation = 'relu'),\n",
    "        tf.keras.layers.MaxPooling2D(pool_size=(2, 2)),\n",
    "        tf.keras.layers.Flatten(),\n",
    "        tf.keras.layers.Dense(128 , activation = 'relu'),\n",
    "        tf.keras.layers.Dense(10, activation=\"softmax\")])"
   ]
  },
  {
   "cell_type": "code",
   "execution_count": 9,
   "id": "1d524c35-7c2f-4564-905e-07ded5613ac5",
   "metadata": {},
   "outputs": [
    {
     "name": "stdout",
     "output_type": "stream",
     "text": [
      "Model: \"sequential_1\"\n",
      "_________________________________________________________________\n",
      " Layer (type)                Output Shape              Param #   \n",
      "=================================================================\n",
      " conv2d_2 (Conv2D)           (None, 28, 28, 32)        320       \n",
      "                                                                 \n",
      " max_pooling2d_2 (MaxPoolin  (None, 14, 14, 32)        0         \n",
      " g2D)                                                            \n",
      "                                                                 \n",
      " conv2d_3 (Conv2D)           (None, 14, 14, 64)        18496     \n",
      "                                                                 \n",
      " max_pooling2d_3 (MaxPoolin  (None, 7, 7, 64)          0         \n",
      " g2D)                                                            \n",
      "                                                                 \n",
      " flatten_1 (Flatten)         (None, 3136)              0         \n",
      "                                                                 \n",
      " dense_2 (Dense)             (None, 128)               401536    \n",
      "                                                                 \n",
      " dense_3 (Dense)             (None, 10)                1290      \n",
      "                                                                 \n",
      "=================================================================\n",
      "Total params: 421642 (1.61 MB)\n",
      "Trainable params: 421642 (1.61 MB)\n",
      "Non-trainable params: 0 (0.00 Byte)\n",
      "_________________________________________________________________\n"
     ]
    }
   ],
   "source": [
    "model.summary()"
   ]
  },
  {
   "cell_type": "code",
   "execution_count": 10,
   "id": "c721f71c-719a-47d6-bd45-b61268a360f5",
   "metadata": {},
   "outputs": [],
   "source": [
    "model.compile(optimizer='adam' , loss = 'sparse_categorical_crossentropy' , metrics = ['accuracy'])"
   ]
  },
  {
   "cell_type": "code",
   "execution_count": 11,
   "id": "f2c44ed2-523c-4c9b-9b96-a136e5f8bb65",
   "metadata": {},
   "outputs": [],
   "source": [
    "checkpoint_filepath = './checkpoints'\n",
    "model_checkpoint_callback = tf.keras.callbacks.ModelCheckpoint(\n",
    "    filepath=checkpoint_filepath,\n",
    "    save_weights_only=True,\n",
    "    monitor='val_accuracy',\n",
    "    mode='max',\n",
    "    save_best_only=True)"
   ]
  },
  {
   "cell_type": "code",
   "execution_count": 12,
   "id": "2f6035ac-7c0f-4837-9e73-b929b26f5cb3",
   "metadata": {},
   "outputs": [
    {
     "name": "stdout",
     "output_type": "stream",
     "text": [
      "Epoch 1/10\n"
     ]
    },
    {
     "name": "stderr",
     "output_type": "stream",
     "text": [
      "2023-09-29 11:06:54.385902: I tensorflow/compiler/xla/stream_executor/cuda/cuda_dnn.cc:432] Loaded cuDNN version 8801\n",
      "2023-09-29 11:06:54.595372: I tensorflow/compiler/xla/stream_executor/cuda/cuda_blas.cc:606] TensorFloat-32 will be used for the matrix multiplication. This will only be logged once.\n",
      "2023-09-29 11:06:54.611448: I tensorflow/compiler/xla/service/service.cc:168] XLA service 0xb3cf710 initialized for platform CUDA (this does not guarantee that XLA will be used). Devices:\n",
      "2023-09-29 11:06:54.611482: I tensorflow/compiler/xla/service/service.cc:176]   StreamExecutor device (0): NVIDIA GeForce RTX 3090, Compute Capability 8.6\n",
      "2023-09-29 11:06:54.611492: I tensorflow/compiler/xla/service/service.cc:176]   StreamExecutor device (1): NVIDIA GeForce RTX 3090, Compute Capability 8.6\n",
      "2023-09-29 11:06:54.620146: I tensorflow/compiler/mlir/tensorflow/utils/dump_mlir_util.cc:255] disabling MLIR crash reproducer, set env var `MLIR_CRASH_REPRODUCER_DIRECTORY` to enable.\n",
      "2023-09-29 11:06:54.650656: W tensorflow/compiler/xla/service/gpu/llvm_gpu_backend/gpu_backend_lib.cc:543] Can't find libdevice directory ${CUDA_DIR}/nvvm/libdevice. This may result in compilation or runtime failures, if the program we try to run uses routines from libdevice.\n",
      "Searched for CUDA in the following directories:\n",
      "  ./cuda_sdk_lib\n",
      "  /usr/local/cuda-11.8\n",
      "  /usr/local/cuda\n",
      "  .\n",
      "You can choose the search directory by setting xla_gpu_cuda_data_dir in HloModule's DebugOptions.  For most apps, setting the environment variable XLA_FLAGS=--xla_gpu_cuda_data_dir=/path/to/cuda will work.\n",
      "2023-09-29 11:06:54.784137: I ./tensorflow/compiler/jit/device_compiler.h:186] Compiled cluster using XLA!  This line is logged at most once for the lifetime of the process.\n"
     ]
    },
    {
     "name": "stdout",
     "output_type": "stream",
     "text": [
      "844/844 [==============================] - 5s 3ms/step - loss: 0.1619 - accuracy: 0.9511 - val_loss: 0.0527 - val_accuracy: 0.9845\n",
      "Epoch 2/10\n",
      "599/844 [====================>.........] - ETA: 0s - loss: 0.0495 - accuracy: 0.9842"
     ]
    },
    {
     "ename": "KeyboardInterrupt",
     "evalue": "",
     "output_type": "error",
     "traceback": [
      "\u001b[0;31m---------------------------------------------------------------------------\u001b[0m",
      "\u001b[0;31mKeyboardInterrupt\u001b[0m                         Traceback (most recent call last)",
      "Cell \u001b[0;32mIn[12], line 1\u001b[0m\n\u001b[0;32m----> 1\u001b[0m \u001b[43mmodel\u001b[49m\u001b[38;5;241;43m.\u001b[39;49m\u001b[43mfit\u001b[49m\u001b[43m(\u001b[49m\u001b[43mtrain_x\u001b[49m\u001b[43m \u001b[49m\u001b[43m,\u001b[49m\u001b[43m \u001b[49m\u001b[43mtrain_y\u001b[49m\u001b[43m \u001b[49m\u001b[43m,\u001b[49m\u001b[43m \u001b[49m\u001b[43mbatch_size\u001b[49m\u001b[43m \u001b[49m\u001b[38;5;241;43m=\u001b[39;49m\u001b[43m \u001b[49m\u001b[38;5;241;43m64\u001b[39;49m\u001b[43m \u001b[49m\u001b[43m,\u001b[49m\u001b[43m \u001b[49m\u001b[43mvalidation_split\u001b[49m\u001b[43m \u001b[49m\u001b[38;5;241;43m=\u001b[39;49m\u001b[43m \u001b[49m\u001b[38;5;241;43m0.1\u001b[39;49m\u001b[43m \u001b[49m\u001b[43m,\u001b[49m\u001b[43m \u001b[49m\u001b[43mepochs\u001b[49m\u001b[38;5;241;43m=\u001b[39;49m\u001b[38;5;241;43m10\u001b[39;49m\u001b[43m \u001b[49m\u001b[43m,\u001b[49m\u001b[43m \u001b[49m\u001b[43mcallbacks\u001b[49m\u001b[38;5;241;43m=\u001b[39;49m\u001b[43m[\u001b[49m\u001b[43mmodel_checkpoint_callback\u001b[49m\u001b[43m]\u001b[49m\u001b[43m)\u001b[49m\n",
      "File \u001b[0;32m~/miniconda3/envs/convert/lib/python3.9/site-packages/keras/src/utils/traceback_utils.py:65\u001b[0m, in \u001b[0;36mfilter_traceback.<locals>.error_handler\u001b[0;34m(*args, **kwargs)\u001b[0m\n\u001b[1;32m     63\u001b[0m filtered_tb \u001b[38;5;241m=\u001b[39m \u001b[38;5;28;01mNone\u001b[39;00m\n\u001b[1;32m     64\u001b[0m \u001b[38;5;28;01mtry\u001b[39;00m:\n\u001b[0;32m---> 65\u001b[0m     \u001b[38;5;28;01mreturn\u001b[39;00m \u001b[43mfn\u001b[49m\u001b[43m(\u001b[49m\u001b[38;5;241;43m*\u001b[39;49m\u001b[43margs\u001b[49m\u001b[43m,\u001b[49m\u001b[43m \u001b[49m\u001b[38;5;241;43m*\u001b[39;49m\u001b[38;5;241;43m*\u001b[39;49m\u001b[43mkwargs\u001b[49m\u001b[43m)\u001b[49m\n\u001b[1;32m     66\u001b[0m \u001b[38;5;28;01mexcept\u001b[39;00m \u001b[38;5;167;01mException\u001b[39;00m \u001b[38;5;28;01mas\u001b[39;00m e:\n\u001b[1;32m     67\u001b[0m     filtered_tb \u001b[38;5;241m=\u001b[39m _process_traceback_frames(e\u001b[38;5;241m.\u001b[39m__traceback__)\n",
      "File \u001b[0;32m~/miniconda3/envs/convert/lib/python3.9/site-packages/keras/src/engine/training.py:1748\u001b[0m, in \u001b[0;36mModel.fit\u001b[0;34m(self, x, y, batch_size, epochs, verbose, callbacks, validation_split, validation_data, shuffle, class_weight, sample_weight, initial_epoch, steps_per_epoch, validation_steps, validation_batch_size, validation_freq, max_queue_size, workers, use_multiprocessing)\u001b[0m\n\u001b[1;32m   1746\u001b[0m logs \u001b[38;5;241m=\u001b[39m tmp_logs\n\u001b[1;32m   1747\u001b[0m end_step \u001b[38;5;241m=\u001b[39m step \u001b[38;5;241m+\u001b[39m data_handler\u001b[38;5;241m.\u001b[39mstep_increment\n\u001b[0;32m-> 1748\u001b[0m \u001b[43mcallbacks\u001b[49m\u001b[38;5;241;43m.\u001b[39;49m\u001b[43mon_train_batch_end\u001b[49m\u001b[43m(\u001b[49m\u001b[43mend_step\u001b[49m\u001b[43m,\u001b[49m\u001b[43m \u001b[49m\u001b[43mlogs\u001b[49m\u001b[43m)\u001b[49m\n\u001b[1;32m   1749\u001b[0m \u001b[38;5;28;01mif\u001b[39;00m \u001b[38;5;28mself\u001b[39m\u001b[38;5;241m.\u001b[39mstop_training:\n\u001b[1;32m   1750\u001b[0m     \u001b[38;5;28;01mbreak\u001b[39;00m\n",
      "File \u001b[0;32m~/miniconda3/envs/convert/lib/python3.9/site-packages/keras/src/callbacks.py:475\u001b[0m, in \u001b[0;36mCallbackList.on_train_batch_end\u001b[0;34m(self, batch, logs)\u001b[0m\n\u001b[1;32m    468\u001b[0m \u001b[38;5;250m\u001b[39m\u001b[38;5;124;03m\"\"\"Calls the `on_train_batch_end` methods of its callbacks.\u001b[39;00m\n\u001b[1;32m    469\u001b[0m \n\u001b[1;32m    470\u001b[0m \u001b[38;5;124;03mArgs:\u001b[39;00m\n\u001b[1;32m    471\u001b[0m \u001b[38;5;124;03m    batch: Integer, index of batch within the current epoch.\u001b[39;00m\n\u001b[1;32m    472\u001b[0m \u001b[38;5;124;03m    logs: Dict. Aggregated metric results up until this batch.\u001b[39;00m\n\u001b[1;32m    473\u001b[0m \u001b[38;5;124;03m\"\"\"\u001b[39;00m\n\u001b[1;32m    474\u001b[0m \u001b[38;5;28;01mif\u001b[39;00m \u001b[38;5;28mself\u001b[39m\u001b[38;5;241m.\u001b[39m_should_call_train_batch_hooks:\n\u001b[0;32m--> 475\u001b[0m     \u001b[38;5;28;43mself\u001b[39;49m\u001b[38;5;241;43m.\u001b[39;49m\u001b[43m_call_batch_hook\u001b[49m\u001b[43m(\u001b[49m\u001b[43mModeKeys\u001b[49m\u001b[38;5;241;43m.\u001b[39;49m\u001b[43mTRAIN\u001b[49m\u001b[43m,\u001b[49m\u001b[43m \u001b[49m\u001b[38;5;124;43m\"\u001b[39;49m\u001b[38;5;124;43mend\u001b[39;49m\u001b[38;5;124;43m\"\u001b[39;49m\u001b[43m,\u001b[49m\u001b[43m \u001b[49m\u001b[43mbatch\u001b[49m\u001b[43m,\u001b[49m\u001b[43m \u001b[49m\u001b[43mlogs\u001b[49m\u001b[38;5;241;43m=\u001b[39;49m\u001b[43mlogs\u001b[49m\u001b[43m)\u001b[49m\n",
      "File \u001b[0;32m~/miniconda3/envs/convert/lib/python3.9/site-packages/keras/src/callbacks.py:322\u001b[0m, in \u001b[0;36mCallbackList._call_batch_hook\u001b[0;34m(self, mode, hook, batch, logs)\u001b[0m\n\u001b[1;32m    320\u001b[0m     \u001b[38;5;28mself\u001b[39m\u001b[38;5;241m.\u001b[39m_call_batch_begin_hook(mode, batch, logs)\n\u001b[1;32m    321\u001b[0m \u001b[38;5;28;01melif\u001b[39;00m hook \u001b[38;5;241m==\u001b[39m \u001b[38;5;124m\"\u001b[39m\u001b[38;5;124mend\u001b[39m\u001b[38;5;124m\"\u001b[39m:\n\u001b[0;32m--> 322\u001b[0m     \u001b[38;5;28;43mself\u001b[39;49m\u001b[38;5;241;43m.\u001b[39;49m\u001b[43m_call_batch_end_hook\u001b[49m\u001b[43m(\u001b[49m\u001b[43mmode\u001b[49m\u001b[43m,\u001b[49m\u001b[43m \u001b[49m\u001b[43mbatch\u001b[49m\u001b[43m,\u001b[49m\u001b[43m \u001b[49m\u001b[43mlogs\u001b[49m\u001b[43m)\u001b[49m\n\u001b[1;32m    323\u001b[0m \u001b[38;5;28;01melse\u001b[39;00m:\n\u001b[1;32m    324\u001b[0m     \u001b[38;5;28;01mraise\u001b[39;00m \u001b[38;5;167;01mValueError\u001b[39;00m(\n\u001b[1;32m    325\u001b[0m         \u001b[38;5;124mf\u001b[39m\u001b[38;5;124m\"\u001b[39m\u001b[38;5;124mUnrecognized hook: \u001b[39m\u001b[38;5;132;01m{\u001b[39;00mhook\u001b[38;5;132;01m}\u001b[39;00m\u001b[38;5;124m. \u001b[39m\u001b[38;5;124m\"\u001b[39m\n\u001b[1;32m    326\u001b[0m         \u001b[38;5;124m'\u001b[39m\u001b[38;5;124mExpected values are [\u001b[39m\u001b[38;5;124m\"\u001b[39m\u001b[38;5;124mbegin\u001b[39m\u001b[38;5;124m\"\u001b[39m\u001b[38;5;124m, \u001b[39m\u001b[38;5;124m\"\u001b[39m\u001b[38;5;124mend\u001b[39m\u001b[38;5;124m\"\u001b[39m\u001b[38;5;124m]\u001b[39m\u001b[38;5;124m'\u001b[39m\n\u001b[1;32m    327\u001b[0m     )\n",
      "File \u001b[0;32m~/miniconda3/envs/convert/lib/python3.9/site-packages/keras/src/callbacks.py:345\u001b[0m, in \u001b[0;36mCallbackList._call_batch_end_hook\u001b[0;34m(self, mode, batch, logs)\u001b[0m\n\u001b[1;32m    342\u001b[0m     batch_time \u001b[38;5;241m=\u001b[39m time\u001b[38;5;241m.\u001b[39mtime() \u001b[38;5;241m-\u001b[39m \u001b[38;5;28mself\u001b[39m\u001b[38;5;241m.\u001b[39m_batch_start_time\n\u001b[1;32m    343\u001b[0m     \u001b[38;5;28mself\u001b[39m\u001b[38;5;241m.\u001b[39m_batch_times\u001b[38;5;241m.\u001b[39mappend(batch_time)\n\u001b[0;32m--> 345\u001b[0m \u001b[38;5;28;43mself\u001b[39;49m\u001b[38;5;241;43m.\u001b[39;49m\u001b[43m_call_batch_hook_helper\u001b[49m\u001b[43m(\u001b[49m\u001b[43mhook_name\u001b[49m\u001b[43m,\u001b[49m\u001b[43m \u001b[49m\u001b[43mbatch\u001b[49m\u001b[43m,\u001b[49m\u001b[43m \u001b[49m\u001b[43mlogs\u001b[49m\u001b[43m)\u001b[49m\n\u001b[1;32m    347\u001b[0m \u001b[38;5;28;01mif\u001b[39;00m \u001b[38;5;28mlen\u001b[39m(\u001b[38;5;28mself\u001b[39m\u001b[38;5;241m.\u001b[39m_batch_times) \u001b[38;5;241m>\u001b[39m\u001b[38;5;241m=\u001b[39m \u001b[38;5;28mself\u001b[39m\u001b[38;5;241m.\u001b[39m_num_batches_for_timing_check:\n\u001b[1;32m    348\u001b[0m     end_hook_name \u001b[38;5;241m=\u001b[39m hook_name\n",
      "File \u001b[0;32m~/miniconda3/envs/convert/lib/python3.9/site-packages/keras/src/callbacks.py:393\u001b[0m, in \u001b[0;36mCallbackList._call_batch_hook_helper\u001b[0;34m(self, hook_name, batch, logs)\u001b[0m\n\u001b[1;32m    391\u001b[0m \u001b[38;5;28;01mfor\u001b[39;00m callback \u001b[38;5;129;01min\u001b[39;00m \u001b[38;5;28mself\u001b[39m\u001b[38;5;241m.\u001b[39mcallbacks:\n\u001b[1;32m    392\u001b[0m     hook \u001b[38;5;241m=\u001b[39m \u001b[38;5;28mgetattr\u001b[39m(callback, hook_name)\n\u001b[0;32m--> 393\u001b[0m     \u001b[43mhook\u001b[49m\u001b[43m(\u001b[49m\u001b[43mbatch\u001b[49m\u001b[43m,\u001b[49m\u001b[43m \u001b[49m\u001b[43mlogs\u001b[49m\u001b[43m)\u001b[49m\n\u001b[1;32m    395\u001b[0m \u001b[38;5;28;01mif\u001b[39;00m \u001b[38;5;28mself\u001b[39m\u001b[38;5;241m.\u001b[39m_check_timing:\n\u001b[1;32m    396\u001b[0m     \u001b[38;5;28;01mif\u001b[39;00m hook_name \u001b[38;5;129;01mnot\u001b[39;00m \u001b[38;5;129;01min\u001b[39;00m \u001b[38;5;28mself\u001b[39m\u001b[38;5;241m.\u001b[39m_hook_times:\n",
      "File \u001b[0;32m~/miniconda3/envs/convert/lib/python3.9/site-packages/keras/src/callbacks.py:1093\u001b[0m, in \u001b[0;36mProgbarLogger.on_train_batch_end\u001b[0;34m(self, batch, logs)\u001b[0m\n\u001b[1;32m   1092\u001b[0m \u001b[38;5;28;01mdef\u001b[39;00m \u001b[38;5;21mon_train_batch_end\u001b[39m(\u001b[38;5;28mself\u001b[39m, batch, logs\u001b[38;5;241m=\u001b[39m\u001b[38;5;28;01mNone\u001b[39;00m):\n\u001b[0;32m-> 1093\u001b[0m     \u001b[38;5;28;43mself\u001b[39;49m\u001b[38;5;241;43m.\u001b[39;49m\u001b[43m_batch_update_progbar\u001b[49m\u001b[43m(\u001b[49m\u001b[43mbatch\u001b[49m\u001b[43m,\u001b[49m\u001b[43m \u001b[49m\u001b[43mlogs\u001b[49m\u001b[43m)\u001b[49m\n",
      "File \u001b[0;32m~/miniconda3/envs/convert/lib/python3.9/site-packages/keras/src/callbacks.py:1155\u001b[0m, in \u001b[0;36mProgbarLogger._batch_update_progbar\u001b[0;34m(self, batch, logs)\u001b[0m\n\u001b[1;32m   1153\u001b[0m \u001b[38;5;250m\u001b[39m\u001b[38;5;124;03m\"\"\"Updates the progbar.\"\"\"\u001b[39;00m\n\u001b[1;32m   1154\u001b[0m logs \u001b[38;5;241m=\u001b[39m logs \u001b[38;5;129;01mor\u001b[39;00m {}\n\u001b[0;32m-> 1155\u001b[0m \u001b[38;5;28;43mself\u001b[39;49m\u001b[38;5;241;43m.\u001b[39;49m\u001b[43m_maybe_init_progbar\u001b[49m\u001b[43m(\u001b[49m\u001b[43m)\u001b[49m\n\u001b[1;32m   1156\u001b[0m \u001b[38;5;28;01mif\u001b[39;00m \u001b[38;5;28mself\u001b[39m\u001b[38;5;241m.\u001b[39muse_steps:\n\u001b[1;32m   1157\u001b[0m     \u001b[38;5;28mself\u001b[39m\u001b[38;5;241m.\u001b[39mseen \u001b[38;5;241m=\u001b[39m batch \u001b[38;5;241m+\u001b[39m \u001b[38;5;241m1\u001b[39m  \u001b[38;5;66;03m# One-indexed.\u001b[39;00m\n",
      "File \u001b[0;32m~/miniconda3/envs/convert/lib/python3.9/site-packages/keras/src/callbacks.py:1130\u001b[0m, in \u001b[0;36mProgbarLogger._maybe_init_progbar\u001b[0;34m(self)\u001b[0m\n\u001b[1;32m   1123\u001b[0m \u001b[38;5;28mself\u001b[39m\u001b[38;5;241m.\u001b[39mstateful_metrics \u001b[38;5;241m=\u001b[39m \u001b[38;5;28mset\u001b[39m(\u001b[38;5;28mself\u001b[39m\u001b[38;5;241m.\u001b[39mstateful_metrics)\n\u001b[1;32m   1125\u001b[0m \u001b[38;5;28;01mif\u001b[39;00m \u001b[38;5;28mself\u001b[39m\u001b[38;5;241m.\u001b[39mmodel:\n\u001b[1;32m   1126\u001b[0m     \u001b[38;5;66;03m# Update the existing stateful metrics as `self.model.metrics` may\u001b[39;00m\n\u001b[1;32m   1127\u001b[0m     \u001b[38;5;66;03m# contain updated metrics after `MetricsContainer` is built in the\u001b[39;00m\n\u001b[1;32m   1128\u001b[0m     \u001b[38;5;66;03m# first train step.\u001b[39;00m\n\u001b[1;32m   1129\u001b[0m     \u001b[38;5;28mself\u001b[39m\u001b[38;5;241m.\u001b[39mstateful_metrics \u001b[38;5;241m=\u001b[39m \u001b[38;5;28mself\u001b[39m\u001b[38;5;241m.\u001b[39mstateful_metrics\u001b[38;5;241m.\u001b[39munion(\n\u001b[0;32m-> 1130\u001b[0m         \u001b[38;5;28mset\u001b[39m(m\u001b[38;5;241m.\u001b[39mname \u001b[38;5;28;01mfor\u001b[39;00m m \u001b[38;5;129;01min\u001b[39;00m \u001b[38;5;28;43mself\u001b[39;49m\u001b[38;5;241;43m.\u001b[39;49m\u001b[43mmodel\u001b[49m\u001b[38;5;241;43m.\u001b[39;49m\u001b[43mmetrics\u001b[49m)\n\u001b[1;32m   1131\u001b[0m     )\n\u001b[1;32m   1133\u001b[0m \u001b[38;5;28;01mif\u001b[39;00m \u001b[38;5;28mself\u001b[39m\u001b[38;5;241m.\u001b[39mprogbar \u001b[38;5;129;01mis\u001b[39;00m \u001b[38;5;28;01mNone\u001b[39;00m:\n\u001b[1;32m   1134\u001b[0m     \u001b[38;5;28mself\u001b[39m\u001b[38;5;241m.\u001b[39mprogbar \u001b[38;5;241m=\u001b[39m Progbar(\n\u001b[1;32m   1135\u001b[0m         target\u001b[38;5;241m=\u001b[39m\u001b[38;5;28mself\u001b[39m\u001b[38;5;241m.\u001b[39mtarget,\n\u001b[1;32m   1136\u001b[0m         verbose\u001b[38;5;241m=\u001b[39m\u001b[38;5;28mself\u001b[39m\u001b[38;5;241m.\u001b[39mverbose,\n\u001b[1;32m   1137\u001b[0m         stateful_metrics\u001b[38;5;241m=\u001b[39m\u001b[38;5;28mself\u001b[39m\u001b[38;5;241m.\u001b[39mstateful_metrics,\n\u001b[1;32m   1138\u001b[0m         unit_name\u001b[38;5;241m=\u001b[39m\u001b[38;5;124m\"\u001b[39m\u001b[38;5;124mstep\u001b[39m\u001b[38;5;124m\"\u001b[39m \u001b[38;5;28;01mif\u001b[39;00m \u001b[38;5;28mself\u001b[39m\u001b[38;5;241m.\u001b[39muse_steps \u001b[38;5;28;01melse\u001b[39;00m \u001b[38;5;124m\"\u001b[39m\u001b[38;5;124msample\u001b[39m\u001b[38;5;124m\"\u001b[39m,\n\u001b[1;32m   1139\u001b[0m     )\n",
      "File \u001b[0;32m~/miniconda3/envs/convert/lib/python3.9/site-packages/keras/src/engine/training.py:878\u001b[0m, in \u001b[0;36mModel.metrics\u001b[0;34m(self)\u001b[0m\n\u001b[1;32m    875\u001b[0m     \u001b[38;5;28;01mif\u001b[39;00m \u001b[38;5;28mself\u001b[39m\u001b[38;5;241m.\u001b[39mcompiled_metrics \u001b[38;5;129;01mis\u001b[39;00m \u001b[38;5;129;01mnot\u001b[39;00m \u001b[38;5;28;01mNone\u001b[39;00m:\n\u001b[1;32m    876\u001b[0m         metrics \u001b[38;5;241m+\u001b[39m\u001b[38;5;241m=\u001b[39m \u001b[38;5;28mself\u001b[39m\u001b[38;5;241m.\u001b[39mcompiled_metrics\u001b[38;5;241m.\u001b[39mmetrics\n\u001b[0;32m--> 878\u001b[0m \u001b[38;5;28;01mfor\u001b[39;00m l \u001b[38;5;129;01min\u001b[39;00m \u001b[38;5;28mself\u001b[39m\u001b[38;5;241m.\u001b[39m_flatten_layers():\n\u001b[1;32m    879\u001b[0m     metrics\u001b[38;5;241m.\u001b[39mextend(l\u001b[38;5;241m.\u001b[39m_metrics)\n\u001b[1;32m    880\u001b[0m \u001b[38;5;28;01mreturn\u001b[39;00m metrics\n",
      "File \u001b[0;32m~/miniconda3/envs/convert/lib/python3.9/site-packages/keras/src/engine/base_layer.py:3314\u001b[0m, in \u001b[0;36mLayer._flatten_layers\u001b[0;34m(self, recursive, include_self)\u001b[0m\n\u001b[1;32m   3313\u001b[0m \u001b[38;5;28;01mdef\u001b[39;00m \u001b[38;5;21m_flatten_layers\u001b[39m(\u001b[38;5;28mself\u001b[39m, recursive\u001b[38;5;241m=\u001b[39m\u001b[38;5;28;01mTrue\u001b[39;00m, include_self\u001b[38;5;241m=\u001b[39m\u001b[38;5;28;01mTrue\u001b[39;00m):\n\u001b[0;32m-> 3314\u001b[0m     \u001b[38;5;28;01mfor\u001b[39;00m m \u001b[38;5;129;01min\u001b[39;00m \u001b[38;5;28mself\u001b[39m\u001b[38;5;241m.\u001b[39m_flatten_modules(\n\u001b[1;32m   3315\u001b[0m         recursive\u001b[38;5;241m=\u001b[39mrecursive, include_self\u001b[38;5;241m=\u001b[39minclude_self\n\u001b[1;32m   3316\u001b[0m     ):\n\u001b[1;32m   3317\u001b[0m         \u001b[38;5;28;01mif\u001b[39;00m \u001b[38;5;28misinstance\u001b[39m(m, Layer):\n\u001b[1;32m   3318\u001b[0m             \u001b[38;5;28;01myield\u001b[39;00m m\n",
      "File \u001b[0;32m~/miniconda3/envs/convert/lib/python3.9/site-packages/keras/src/engine/base_layer.py:3363\u001b[0m, in \u001b[0;36mLayer._flatten_modules\u001b[0;34m(self, recursive, include_self)\u001b[0m\n\u001b[1;32m   3356\u001b[0m             deque\u001b[38;5;241m.\u001b[39mextendleft(\u001b[38;5;28mreversed\u001b[39m(subtrackables))\n\u001b[1;32m   3357\u001b[0m \u001b[38;5;28;01melif\u001b[39;00m \u001b[38;5;28misinstance\u001b[39m(\n\u001b[1;32m   3358\u001b[0m     trackable_obj,\n\u001b[1;32m   3359\u001b[0m     tf\u001b[38;5;241m.\u001b[39m__internal__\u001b[38;5;241m.\u001b[39mtracking\u001b[38;5;241m.\u001b[39mTrackableDataStructure,\n\u001b[1;32m   3360\u001b[0m ):\n\u001b[1;32m   3361\u001b[0m     \u001b[38;5;66;03m# Data structures are introspected even with\u001b[39;00m\n\u001b[1;32m   3362\u001b[0m     \u001b[38;5;66;03m# `recursive=False`.\u001b[39;00m\n\u001b[0;32m-> 3363\u001b[0m     tracked_values \u001b[38;5;241m=\u001b[39m \u001b[43mtrackable_obj\u001b[49m\u001b[38;5;241;43m.\u001b[39;49m\u001b[43m_values\u001b[49m\n\u001b[1;32m   3364\u001b[0m     \u001b[38;5;28;01mif\u001b[39;00m tracked_values:\n\u001b[1;32m   3365\u001b[0m         deque\u001b[38;5;241m.\u001b[39mextendleft(\u001b[38;5;28mreversed\u001b[39m(tracked_values))\n",
      "File \u001b[0;32m~/miniconda3/envs/convert/lib/python3.9/site-packages/tensorflow/python/trackable/data_structures.py:387\u001b[0m, in \u001b[0;36mList._values\u001b[0;34m(self)\u001b[0m\n\u001b[1;32m    384\u001b[0m \u001b[38;5;28;01mdef\u001b[39;00m \u001b[38;5;21m_name_element\u001b[39m(\u001b[38;5;28mself\u001b[39m, index):\n\u001b[1;32m    385\u001b[0m   \u001b[38;5;28;01mreturn\u001b[39;00m \u001b[38;5;124m\"\u001b[39m\u001b[38;5;132;01m%d\u001b[39;00m\u001b[38;5;124m\"\u001b[39m \u001b[38;5;241m%\u001b[39m (index,)\n\u001b[0;32m--> 387\u001b[0m \u001b[38;5;129m@property\u001b[39m\n\u001b[1;32m    388\u001b[0m \u001b[38;5;28;01mdef\u001b[39;00m \u001b[38;5;21m_values\u001b[39m(\u001b[38;5;28mself\u001b[39m):\n\u001b[1;32m    389\u001b[0m \u001b[38;5;250m  \u001b[39m\u001b[38;5;124;03m\"\"\"Collect values for TrackableDataStructure.\"\"\"\u001b[39;00m\n\u001b[1;32m    390\u001b[0m   \u001b[38;5;28;01mreturn\u001b[39;00m \u001b[38;5;28mself\u001b[39m\n",
      "\u001b[0;31mKeyboardInterrupt\u001b[0m: "
     ]
    }
   ],
   "source": [
    "model.fit(train_x , train_y , batch_size = 64 , validation_split = 0.1 , epochs=10 , callbacks=[model_checkpoint_callback])"
   ]
  },
  {
   "cell_type": "code",
   "execution_count": 13,
   "id": "b9c5994f-098d-4772-acfd-ae334923e5ab",
   "metadata": {},
   "outputs": [
    {
     "data": {
      "text/plain": [
       "<tensorflow.python.checkpoint.checkpoint.CheckpointLoadStatus at 0x7f6d285c6e20>"
      ]
     },
     "execution_count": 13,
     "metadata": {},
     "output_type": "execute_result"
    }
   ],
   "source": [
    "model.load_weights(checkpoint_filepath)"
   ]
  },
  {
   "cell_type": "code",
   "execution_count": 14,
   "id": "d6c27660-8d50-41ff-8ce4-0ec79c7cfe19",
   "metadata": {},
   "outputs": [
    {
     "name": "stdout",
     "output_type": "stream",
     "text": [
      "313/313 [==============================] - 1s 2ms/step - loss: 0.0512 - accuracy: 0.9835\n"
     ]
    },
    {
     "data": {
      "text/plain": [
       "[0.051189638674259186, 0.9835000038146973]"
      ]
     },
     "execution_count": 14,
     "metadata": {},
     "output_type": "execute_result"
    }
   ],
   "source": [
    "model.evaluate(test_x , test_y)"
   ]
  },
  {
   "cell_type": "code",
   "execution_count": 15,
   "id": "019c4599-6be5-45ed-a332-d24570649e9c",
   "metadata": {},
   "outputs": [
    {
     "name": "stdout",
     "output_type": "stream",
     "text": [
      "Epoch 1/10\n",
      "844/844 [==============================] - 3s 3ms/step - loss: 0.0467 - accuracy: 0.9856 - val_loss: 0.0410 - val_accuracy: 0.9872\n",
      "Epoch 2/10\n",
      "844/844 [==============================] - 3s 3ms/step - loss: 0.0320 - accuracy: 0.9899 - val_loss: 0.0362 - val_accuracy: 0.9903\n",
      "Epoch 3/10\n",
      "844/844 [==============================] - 3s 3ms/step - loss: 0.0231 - accuracy: 0.9927 - val_loss: 0.0312 - val_accuracy: 0.9905\n",
      "Epoch 4/10\n",
      "844/844 [==============================] - 3s 3ms/step - loss: 0.0176 - accuracy: 0.9944 - val_loss: 0.0345 - val_accuracy: 0.9900\n",
      "Epoch 5/10\n",
      "844/844 [==============================] - 3s 3ms/step - loss: 0.0146 - accuracy: 0.9950 - val_loss: 0.0455 - val_accuracy: 0.9907\n",
      "Epoch 6/10\n",
      "844/844 [==============================] - 3s 3ms/step - loss: 0.0104 - accuracy: 0.9966 - val_loss: 0.0381 - val_accuracy: 0.9912\n",
      "Epoch 7/10\n",
      "844/844 [==============================] - 3s 3ms/step - loss: 0.0092 - accuracy: 0.9967 - val_loss: 0.0475 - val_accuracy: 0.9888\n",
      "Epoch 8/10\n",
      "844/844 [==============================] - 3s 3ms/step - loss: 0.0086 - accuracy: 0.9969 - val_loss: 0.0397 - val_accuracy: 0.9912\n",
      "Epoch 9/10\n",
      "844/844 [==============================] - 3s 3ms/step - loss: 0.0057 - accuracy: 0.9983 - val_loss: 0.0486 - val_accuracy: 0.9890\n",
      "Epoch 10/10\n",
      "844/844 [==============================] - 3s 3ms/step - loss: 0.0063 - accuracy: 0.9979 - val_loss: 0.0388 - val_accuracy: 0.9903\n"
     ]
    },
    {
     "data": {
      "text/plain": [
       "<keras.src.callbacks.History at 0x7f6d2867f580>"
      ]
     },
     "execution_count": 15,
     "metadata": {},
     "output_type": "execute_result"
    }
   ],
   "source": [
    "model.fit(train_x , train_y , batch_size = 64 , validation_split = 0.1 , epochs=10 , callbacks=[model_checkpoint_callback])"
   ]
  },
  {
   "cell_type": "code",
   "execution_count": 16,
   "id": "01091b7c-aef0-4581-a72c-b9e43dc00576",
   "metadata": {},
   "outputs": [
    {
     "name": "stdout",
     "output_type": "stream",
     "text": [
      "313/313 [==============================] - 1s 2ms/step - loss: 0.0370 - accuracy: 0.9900\n"
     ]
    },
    {
     "data": {
      "text/plain": [
       "[0.037028975784778595, 0.9900000095367432]"
      ]
     },
     "execution_count": 16,
     "metadata": {},
     "output_type": "execute_result"
    }
   ],
   "source": [
    "model.evaluate(test_x , test_y)"
   ]
  },
  {
   "cell_type": "markdown",
   "id": "102c7f48-061e-47d5-8ed1-e188aac136a2",
   "metadata": {},
   "source": [
    "# torch"
   ]
  },
  {
   "cell_type": "code",
   "execution_count": 11,
   "id": "abfa2c8c-f29b-4dc7-b249-98b0c45d306e",
   "metadata": {},
   "outputs": [],
   "source": [
    "from torch.utils import  data\n",
    "import torch\n",
    "from torch import nn , cuda , optim\n",
    "import torch.nn.functional as F\n",
    "from  torchvision import transforms\n",
    "from torchvision.datasets import MNIST\n",
    "import numpy as np\n",
    "import matplotlib.pyplot as plt"
   ]
  },
  {
   "cell_type": "code",
   "execution_count": 4,
   "id": "fc01e196-f664-4b81-8cc3-40a2ac6f3912",
   "metadata": {},
   "outputs": [],
   "source": [
    "transform = transforms.Compose([\n",
    "    transforms.ToTensor(),\n",
    "])\n",
    "train_dataset = MNIST('data' , train = True , download = True , transform = transform) \n",
    "test_dataset =  MNIST('data' , train = False , download = True , transform = transform) "
   ]
  },
  {
   "cell_type": "code",
   "execution_count": 19,
   "id": "2ef333a7-94f4-4f61-a306-8f56c75a28e0",
   "metadata": {},
   "outputs": [],
   "source": [
    "b_size = 30\n",
    "train_data = data.DataLoader(train_dataset , batch_size = b_size , shuffle = True)\n",
    "test_data = data.DataLoader(test_dataset , batch_size = b_size , shuffle = False)"
   ]
  },
  {
   "cell_type": "code",
   "execution_count": 20,
   "id": "552ebba0-bd85-42d4-8d98-7646b810fc88",
   "metadata": {},
   "outputs": [
    {
     "name": "stdout",
     "output_type": "stream",
     "text": [
      "2000\n"
     ]
    }
   ],
   "source": [
    "print(len(train_data))"
   ]
  },
  {
   "cell_type": "code",
   "execution_count": 21,
   "id": "916bee18-6216-4d0e-ab8b-c053c63363f1",
   "metadata": {},
   "outputs": [],
   "source": [
    "class Net(nn.Module):\n",
    "    def __init__(self):\n",
    "        super(Net, self).__init__()\n",
    "        self.conv1 = nn.Conv2d(1, 32, 3, 1)\n",
    "        self.conv2 = nn.Conv2d(32, 64, 3, 1)\n",
    "        self.dropout1 = nn.Dropout(0.25)\n",
    "        self.dropout2 = nn.Dropout(0.5)\n",
    "        self.fc1 = nn.Linear(9216, 128)\n",
    "        self.fc2 = nn.Linear(128, 10)\n",
    "\n",
    "    def forward(self, x):\n",
    "        x = self.conv1(x)\n",
    "        x = F.relu(x)\n",
    "        x = self.conv2(x)\n",
    "        x = F.relu(x)\n",
    "        x = F.max_pool2d(x, 2)\n",
    "        x = self.dropout1(x)\n",
    "        x = torch.flatten(x, 1)\n",
    "        x = self.fc1(x)\n",
    "        x = F.relu(x)\n",
    "        x = self.dropout2(x)\n",
    "        x = self.fc2(x)\n",
    "        output = F.log_softmax(x, dim=1)\n",
    "        return output"
   ]
  },
  {
   "cell_type": "code",
   "execution_count": 22,
   "id": "ac939b50-76e6-4354-8a31-1e1443767d2d",
   "metadata": {},
   "outputs": [
    {
     "data": {
      "text/plain": [
       "Net(\n",
       "  (conv1): Conv2d(1, 32, kernel_size=(3, 3), stride=(1, 1))\n",
       "  (conv2): Conv2d(32, 64, kernel_size=(3, 3), stride=(1, 1))\n",
       "  (dropout1): Dropout(p=0.25, inplace=False)\n",
       "  (dropout2): Dropout(p=0.5, inplace=False)\n",
       "  (fc1): Linear(in_features=9216, out_features=128, bias=True)\n",
       "  (fc2): Linear(in_features=128, out_features=10, bias=True)\n",
       ")"
      ]
     },
     "execution_count": 22,
     "metadata": {},
     "output_type": "execute_result"
    }
   ],
   "source": [
    "device ='cuda' if cuda.is_available() else 'cpu'\n",
    "model = Net()\n",
    "model.to(device)"
   ]
  },
  {
   "cell_type": "code",
   "execution_count": 23,
   "id": "f3b797fc-39e4-4bfc-80a9-31ad1475770f",
   "metadata": {},
   "outputs": [],
   "source": [
    "criterion = nn.CrossEntropyLoss()\n",
    "optimize = optim.SGD(model.parameters(), lr=0.01, momentum=0.9)\n",
    "\n",
    "\n",
    "def train(epoch):\n",
    "    model.train()\n",
    "    for b_i, data in enumerate(train_data):\n",
    "        data_, label = data[0].to(device), data[1].to(device)\n",
    "        optimize.zero_grad()\n",
    "        predict = model(data_)\n",
    "        fault = criterion(predict, label)\n",
    "        fault.backward()\n",
    "        optimize.step()\n",
    "\n",
    "def test():\n",
    "    model.eval()\n",
    "    Fault = 0\n",
    "    Right = 0\n",
    "    for img, label in test_data:\n",
    "        img, label = img.to(device), label.to(device)\n",
    "        predict = model(img)\n",
    "        Fault += criterion(predict, label).item()\n",
    "        result = predict.data.max(1, keepdim=True)[1]\n",
    "        Right += result.eq(label.data.view_as(result)).cpu().sum()\n",
    "    Fault /= (len(test_data.dataset))\n",
    "    print(f\"Aniqlik : {Right / len(test_data.dataset)}, Foizda {100.0 * Right / len(test_data.dataset)}%\")\n"
   ]
  },
  {
   "cell_type": "code",
   "execution_count": 24,
   "id": "4b9fb1d2-7bb2-471f-a5f9-fadc56030700",
   "metadata": {},
   "outputs": [
    {
     "name": "stdout",
     "output_type": "stream",
     "text": [
      "Aniqlik : 0.9782000184059143, Foizda 97.81999969482422%\n",
      "Aniqlik : 0.9854000210762024, Foizda 98.54000091552734%\n"
     ]
    },
    {
     "ename": "KeyboardInterrupt",
     "evalue": "",
     "output_type": "error",
     "traceback": [
      "\u001b[0;31m---------------------------------------------------------------------------\u001b[0m",
      "\u001b[0;31mKeyboardInterrupt\u001b[0m                         Traceback (most recent call last)",
      "Cell \u001b[0;32mIn[24], line 3\u001b[0m\n\u001b[1;32m      1\u001b[0m epochs \u001b[38;5;241m=\u001b[39m \u001b[38;5;241m10\u001b[39m\n\u001b[1;32m      2\u001b[0m \u001b[38;5;28;01mfor\u001b[39;00m epoch \u001b[38;5;129;01min\u001b[39;00m \u001b[38;5;28mrange\u001b[39m(epochs):\n\u001b[0;32m----> 3\u001b[0m     \u001b[43mtrain\u001b[49m\u001b[43m(\u001b[49m\u001b[43mepoch\u001b[49m\u001b[43m)\u001b[49m\n\u001b[1;32m      4\u001b[0m     test()\n\u001b[1;32m      5\u001b[0m     torch\u001b[38;5;241m.\u001b[39msave({\u001b[38;5;124m'\u001b[39m\u001b[38;5;124mstate_dict\u001b[39m\u001b[38;5;124m'\u001b[39m : model\u001b[38;5;241m.\u001b[39mstate_dict(), \u001b[38;5;124m'\u001b[39m\u001b[38;5;124mepoch\u001b[39m\u001b[38;5;124m'\u001b[39m : epoch } , \u001b[38;5;124m'\u001b[39m\u001b[38;5;124mtorch_checkpoint.pth.tar\u001b[39m\u001b[38;5;124m'\u001b[39m)\n",
      "Cell \u001b[0;32mIn[23], line 7\u001b[0m, in \u001b[0;36mtrain\u001b[0;34m(epoch)\u001b[0m\n\u001b[1;32m      5\u001b[0m \u001b[38;5;28;01mdef\u001b[39;00m \u001b[38;5;21mtrain\u001b[39m(epoch):\n\u001b[1;32m      6\u001b[0m     model\u001b[38;5;241m.\u001b[39mtrain()\n\u001b[0;32m----> 7\u001b[0m     \u001b[38;5;28;01mfor\u001b[39;00m b_i, data \u001b[38;5;129;01min\u001b[39;00m \u001b[38;5;28menumerate\u001b[39m(train_data):\n\u001b[1;32m      8\u001b[0m         data_, label \u001b[38;5;241m=\u001b[39m data[\u001b[38;5;241m0\u001b[39m]\u001b[38;5;241m.\u001b[39mto(device), data[\u001b[38;5;241m1\u001b[39m]\u001b[38;5;241m.\u001b[39mto(device)\n\u001b[1;32m      9\u001b[0m         optimize\u001b[38;5;241m.\u001b[39mzero_grad()\n",
      "File \u001b[0;32m~/.local/lib/python3.9/site-packages/torch/utils/data/dataloader.py:634\u001b[0m, in \u001b[0;36m_BaseDataLoaderIter.__next__\u001b[0;34m(self)\u001b[0m\n\u001b[1;32m    631\u001b[0m \u001b[38;5;28;01mif\u001b[39;00m \u001b[38;5;28mself\u001b[39m\u001b[38;5;241m.\u001b[39m_sampler_iter \u001b[38;5;129;01mis\u001b[39;00m \u001b[38;5;28;01mNone\u001b[39;00m:\n\u001b[1;32m    632\u001b[0m     \u001b[38;5;66;03m# TODO(https://github.com/pytorch/pytorch/issues/76750)\u001b[39;00m\n\u001b[1;32m    633\u001b[0m     \u001b[38;5;28mself\u001b[39m\u001b[38;5;241m.\u001b[39m_reset()  \u001b[38;5;66;03m# type: ignore[call-arg]\u001b[39;00m\n\u001b[0;32m--> 634\u001b[0m data \u001b[38;5;241m=\u001b[39m \u001b[38;5;28;43mself\u001b[39;49m\u001b[38;5;241;43m.\u001b[39;49m\u001b[43m_next_data\u001b[49m\u001b[43m(\u001b[49m\u001b[43m)\u001b[49m\n\u001b[1;32m    635\u001b[0m \u001b[38;5;28mself\u001b[39m\u001b[38;5;241m.\u001b[39m_num_yielded \u001b[38;5;241m+\u001b[39m\u001b[38;5;241m=\u001b[39m \u001b[38;5;241m1\u001b[39m\n\u001b[1;32m    636\u001b[0m \u001b[38;5;28;01mif\u001b[39;00m \u001b[38;5;28mself\u001b[39m\u001b[38;5;241m.\u001b[39m_dataset_kind \u001b[38;5;241m==\u001b[39m _DatasetKind\u001b[38;5;241m.\u001b[39mIterable \u001b[38;5;129;01mand\u001b[39;00m \\\n\u001b[1;32m    637\u001b[0m         \u001b[38;5;28mself\u001b[39m\u001b[38;5;241m.\u001b[39m_IterableDataset_len_called \u001b[38;5;129;01mis\u001b[39;00m \u001b[38;5;129;01mnot\u001b[39;00m \u001b[38;5;28;01mNone\u001b[39;00m \u001b[38;5;129;01mand\u001b[39;00m \\\n\u001b[1;32m    638\u001b[0m         \u001b[38;5;28mself\u001b[39m\u001b[38;5;241m.\u001b[39m_num_yielded \u001b[38;5;241m>\u001b[39m \u001b[38;5;28mself\u001b[39m\u001b[38;5;241m.\u001b[39m_IterableDataset_len_called:\n",
      "File \u001b[0;32m~/.local/lib/python3.9/site-packages/torch/utils/data/dataloader.py:678\u001b[0m, in \u001b[0;36m_SingleProcessDataLoaderIter._next_data\u001b[0;34m(self)\u001b[0m\n\u001b[1;32m    676\u001b[0m \u001b[38;5;28;01mdef\u001b[39;00m \u001b[38;5;21m_next_data\u001b[39m(\u001b[38;5;28mself\u001b[39m):\n\u001b[1;32m    677\u001b[0m     index \u001b[38;5;241m=\u001b[39m \u001b[38;5;28mself\u001b[39m\u001b[38;5;241m.\u001b[39m_next_index()  \u001b[38;5;66;03m# may raise StopIteration\u001b[39;00m\n\u001b[0;32m--> 678\u001b[0m     data \u001b[38;5;241m=\u001b[39m \u001b[38;5;28;43mself\u001b[39;49m\u001b[38;5;241;43m.\u001b[39;49m\u001b[43m_dataset_fetcher\u001b[49m\u001b[38;5;241;43m.\u001b[39;49m\u001b[43mfetch\u001b[49m\u001b[43m(\u001b[49m\u001b[43mindex\u001b[49m\u001b[43m)\u001b[49m  \u001b[38;5;66;03m# may raise StopIteration\u001b[39;00m\n\u001b[1;32m    679\u001b[0m     \u001b[38;5;28;01mif\u001b[39;00m \u001b[38;5;28mself\u001b[39m\u001b[38;5;241m.\u001b[39m_pin_memory:\n\u001b[1;32m    680\u001b[0m         data \u001b[38;5;241m=\u001b[39m _utils\u001b[38;5;241m.\u001b[39mpin_memory\u001b[38;5;241m.\u001b[39mpin_memory(data, \u001b[38;5;28mself\u001b[39m\u001b[38;5;241m.\u001b[39m_pin_memory_device)\n",
      "File \u001b[0;32m~/.local/lib/python3.9/site-packages/torch/utils/data/_utils/fetch.py:51\u001b[0m, in \u001b[0;36m_MapDatasetFetcher.fetch\u001b[0;34m(self, possibly_batched_index)\u001b[0m\n\u001b[1;32m     49\u001b[0m         data \u001b[38;5;241m=\u001b[39m \u001b[38;5;28mself\u001b[39m\u001b[38;5;241m.\u001b[39mdataset\u001b[38;5;241m.\u001b[39m__getitems__(possibly_batched_index)\n\u001b[1;32m     50\u001b[0m     \u001b[38;5;28;01melse\u001b[39;00m:\n\u001b[0;32m---> 51\u001b[0m         data \u001b[38;5;241m=\u001b[39m [\u001b[38;5;28mself\u001b[39m\u001b[38;5;241m.\u001b[39mdataset[idx] \u001b[38;5;28;01mfor\u001b[39;00m idx \u001b[38;5;129;01min\u001b[39;00m possibly_batched_index]\n\u001b[1;32m     52\u001b[0m \u001b[38;5;28;01melse\u001b[39;00m:\n\u001b[1;32m     53\u001b[0m     data \u001b[38;5;241m=\u001b[39m \u001b[38;5;28mself\u001b[39m\u001b[38;5;241m.\u001b[39mdataset[possibly_batched_index]\n",
      "File \u001b[0;32m~/.local/lib/python3.9/site-packages/torch/utils/data/_utils/fetch.py:51\u001b[0m, in \u001b[0;36m<listcomp>\u001b[0;34m(.0)\u001b[0m\n\u001b[1;32m     49\u001b[0m         data \u001b[38;5;241m=\u001b[39m \u001b[38;5;28mself\u001b[39m\u001b[38;5;241m.\u001b[39mdataset\u001b[38;5;241m.\u001b[39m__getitems__(possibly_batched_index)\n\u001b[1;32m     50\u001b[0m     \u001b[38;5;28;01melse\u001b[39;00m:\n\u001b[0;32m---> 51\u001b[0m         data \u001b[38;5;241m=\u001b[39m [\u001b[38;5;28;43mself\u001b[39;49m\u001b[38;5;241;43m.\u001b[39;49m\u001b[43mdataset\u001b[49m\u001b[43m[\u001b[49m\u001b[43midx\u001b[49m\u001b[43m]\u001b[49m \u001b[38;5;28;01mfor\u001b[39;00m idx \u001b[38;5;129;01min\u001b[39;00m possibly_batched_index]\n\u001b[1;32m     52\u001b[0m \u001b[38;5;28;01melse\u001b[39;00m:\n\u001b[1;32m     53\u001b[0m     data \u001b[38;5;241m=\u001b[39m \u001b[38;5;28mself\u001b[39m\u001b[38;5;241m.\u001b[39mdataset[possibly_batched_index]\n",
      "File \u001b[0;32m~/.local/lib/python3.9/site-packages/torchvision/datasets/mnist.py:138\u001b[0m, in \u001b[0;36mMNIST.__getitem__\u001b[0;34m(self, index)\u001b[0m\n\u001b[1;32m    130\u001b[0m \u001b[38;5;28;01mdef\u001b[39;00m \u001b[38;5;21m__getitem__\u001b[39m(\u001b[38;5;28mself\u001b[39m, index: \u001b[38;5;28mint\u001b[39m) \u001b[38;5;241m-\u001b[39m\u001b[38;5;241m>\u001b[39m Tuple[Any, Any]:\n\u001b[1;32m    131\u001b[0m \u001b[38;5;250m    \u001b[39m\u001b[38;5;124;03m\"\"\"\u001b[39;00m\n\u001b[1;32m    132\u001b[0m \u001b[38;5;124;03m    Args:\u001b[39;00m\n\u001b[1;32m    133\u001b[0m \u001b[38;5;124;03m        index (int): Index\u001b[39;00m\n\u001b[0;32m   (...)\u001b[0m\n\u001b[1;32m    136\u001b[0m \u001b[38;5;124;03m        tuple: (image, target) where target is index of the target class.\u001b[39;00m\n\u001b[1;32m    137\u001b[0m \u001b[38;5;124;03m    \"\"\"\u001b[39;00m\n\u001b[0;32m--> 138\u001b[0m     img, target \u001b[38;5;241m=\u001b[39m \u001b[38;5;28;43mself\u001b[39;49m\u001b[38;5;241;43m.\u001b[39;49m\u001b[43mdata\u001b[49m\u001b[43m[\u001b[49m\u001b[43mindex\u001b[49m\u001b[43m]\u001b[49m, \u001b[38;5;28mint\u001b[39m(\u001b[38;5;28mself\u001b[39m\u001b[38;5;241m.\u001b[39mtargets[index])\n\u001b[1;32m    140\u001b[0m     \u001b[38;5;66;03m# doing this so that it is consistent with all other datasets\u001b[39;00m\n\u001b[1;32m    141\u001b[0m     \u001b[38;5;66;03m# to return a PIL Image\u001b[39;00m\n\u001b[1;32m    142\u001b[0m     img \u001b[38;5;241m=\u001b[39m Image\u001b[38;5;241m.\u001b[39mfromarray(img\u001b[38;5;241m.\u001b[39mnumpy(), mode\u001b[38;5;241m=\u001b[39m\u001b[38;5;124m\"\u001b[39m\u001b[38;5;124mL\u001b[39m\u001b[38;5;124m\"\u001b[39m)\n",
      "\u001b[0;31mKeyboardInterrupt\u001b[0m: "
     ]
    }
   ],
   "source": [
    "epochs = 10\n",
    "for epoch in range(epochs):\n",
    "    train(epoch)\n",
    "    test()\n",
    "    torch.save({'state_dict' : model.state_dict(), 'epoch' : epoch } , 'torch_checkpoint.pth.tar')"
   ]
  },
  {
   "cell_type": "code",
   "execution_count": 25,
   "id": "1b5fd0ed-8d24-4320-9502-f8e16dacb826",
   "metadata": {},
   "outputs": [],
   "source": [
    "check_model = torch.load('torch_checkpoint.pth.tar')"
   ]
  },
  {
   "cell_type": "code",
   "execution_count": 26,
   "id": "2ed13c17-879d-4d00-b076-3cb911b33dc9",
   "metadata": {},
   "outputs": [
    {
     "name": "stdout",
     "output_type": "stream",
     "text": [
      "1\n"
     ]
    }
   ],
   "source": [
    "print(check_model['epoch'])"
   ]
  },
  {
   "cell_type": "code",
   "execution_count": 27,
   "id": "34b1ab3d-5194-44ce-ace7-0d7790406d37",
   "metadata": {},
   "outputs": [
    {
     "name": "stderr",
     "output_type": "stream",
     "text": [
      "/home/airi/.local/lib/python3.9/site-packages/torch/nn/modules/module.py:1802: UserWarning: Positional args are being deprecated, use kwargs instead. Refer to https://pytorch.org/docs/master/generated/torch.nn.Module.html#torch.nn.Module.state_dict for details.\n",
      "  warnings.warn(\n"
     ]
    },
    {
     "data": {
      "text/plain": [
       "OrderedDict([('conv1.weight',\n",
       "              tensor([[[[-2.8752e-01, -5.6079e-01,  2.2846e-01],\n",
       "                        [ 6.2942e-02, -2.3459e-01,  5.2300e-01],\n",
       "                        [-1.3820e-01,  4.1693e-01,  4.0713e-01]]],\n",
       "              \n",
       "              \n",
       "                      [[[ 3.2125e-01,  4.0094e-01, -9.4188e-02],\n",
       "                        [ 4.0793e-01, -2.5755e-01, -3.4966e-01],\n",
       "                        [ 3.7314e-01, -1.4628e-02, -4.3575e-01]]],\n",
       "              \n",
       "              \n",
       "                      [[[ 4.8438e-02,  1.0460e-01,  3.5829e-01],\n",
       "                        [ 6.6788e-02, -2.7249e-01, -3.0044e-01],\n",
       "                        [ 1.4994e-02, -2.1197e-01,  1.2199e-01]]],\n",
       "              \n",
       "              \n",
       "                      [[[ 2.0162e-01,  4.2005e-01,  2.3519e-01],\n",
       "                        [ 2.0642e-01, -3.2094e-02, -2.5262e-01],\n",
       "                        [ 3.6086e-01, -2.9783e-01, -5.5902e-01]]],\n",
       "              \n",
       "              \n",
       "                      [[[-1.8711e-01,  1.4039e-01, -4.1822e-01],\n",
       "                        [ 2.6113e-01, -2.7079e-01, -5.0407e-01],\n",
       "                        [ 5.2363e-01,  2.0553e-01,  5.6241e-02]]],\n",
       "              \n",
       "              \n",
       "                      [[[ 4.8408e-01,  2.5029e-01,  1.2747e-01],\n",
       "                        [ 2.4436e-01, -2.4140e-01, -1.1447e-01],\n",
       "                        [ 1.2426e-01, -3.8856e-01, -2.9570e-01]]],\n",
       "              \n",
       "              \n",
       "                      [[[-2.0188e-01, -1.4452e-01, -2.7499e-01],\n",
       "                        [ 1.5180e-01, -3.2723e-01,  3.3566e-02],\n",
       "                        [-1.4498e-01, -1.7005e-02,  2.0042e-01]]],\n",
       "              \n",
       "              \n",
       "                      [[[-1.7634e-01,  6.8725e-02, -1.7926e-01],\n",
       "                        [-2.1197e-01, -1.9531e-01, -7.4411e-02],\n",
       "                        [ 4.5968e-01, -3.9631e-03,  3.5867e-01]]],\n",
       "              \n",
       "              \n",
       "                      [[[-1.4886e-01, -1.2857e-01, -3.5869e-01],\n",
       "                        [ 1.0909e-01,  1.3195e-01, -1.3752e-01],\n",
       "                        [ 1.5013e-02,  2.5796e-01,  1.3179e-01]]],\n",
       "              \n",
       "              \n",
       "                      [[[-3.5333e-01,  1.2038e-01, -3.9722e-02],\n",
       "                        [-2.6458e-01,  3.6270e-01, -1.5214e-01],\n",
       "                        [-3.6467e-01,  3.6162e-02,  2.7646e-01]]],\n",
       "              \n",
       "              \n",
       "                      [[[ 1.8218e-01,  6.2262e-02, -1.4268e-01],\n",
       "                        [ 3.5899e-01, -3.0201e-01, -1.9395e-01],\n",
       "                        [-4.9184e-02, -3.1487e-01, -1.4526e-01]]],\n",
       "              \n",
       "              \n",
       "                      [[[ 2.5189e-01, -1.1642e-02, -5.0160e-03],\n",
       "                        [ 4.0019e-04, -2.0464e-01, -3.2138e-01],\n",
       "                        [-2.5694e-01,  1.8121e-01, -8.5750e-03]]],\n",
       "              \n",
       "              \n",
       "                      [[[ 1.1073e-01,  3.8514e-01,  1.5002e-01],\n",
       "                        [ 1.1193e-01, -9.0350e-02,  2.6681e-01],\n",
       "                        [-3.3338e-01, -1.9390e-01, -3.7970e-01]]],\n",
       "              \n",
       "              \n",
       "                      [[[-5.0203e-01, -3.0749e-01, -3.5418e-02],\n",
       "                        [-7.6518e-02, -1.1565e-01,  1.3534e-01],\n",
       "                        [ 3.0254e-02,  5.4173e-01,  6.2103e-03]]],\n",
       "              \n",
       "              \n",
       "                      [[[ 1.5940e-01,  6.7934e-01,  6.8614e-01],\n",
       "                        [ 1.2681e-01, -2.1118e-01,  2.6067e-01],\n",
       "                        [-7.3195e-01, -2.8073e-01, -2.7109e-02]]],\n",
       "              \n",
       "              \n",
       "                      [[[ 2.3737e-01,  2.1206e-01,  4.8761e-02],\n",
       "                        [-3.0544e-01, -1.0337e-01, -6.9583e-02],\n",
       "                        [ 1.4880e-01, -1.1943e-01,  1.6842e-01]]],\n",
       "              \n",
       "              \n",
       "                      [[[-1.4985e-01, -7.9040e-02, -5.3495e-01],\n",
       "                        [ 6.2151e-02,  2.0145e-01, -4.3630e-01],\n",
       "                        [ 4.9736e-01,  5.9489e-01, -7.4960e-02]]],\n",
       "              \n",
       "              \n",
       "                      [[[ 2.9826e-01,  3.8471e-01,  4.7155e-02],\n",
       "                        [ 4.3015e-01, -1.7754e-01, -4.7303e-02],\n",
       "                        [-8.4414e-02, -3.1685e-02, -8.6817e-02]]],\n",
       "              \n",
       "              \n",
       "                      [[[-9.5311e-02,  1.0191e-01, -3.4674e-01],\n",
       "                        [-2.2160e-01,  2.4399e-01,  3.7873e-01],\n",
       "                        [-3.8512e-01,  2.6339e-01, -2.8541e-01]]],\n",
       "              \n",
       "              \n",
       "                      [[[ 6.0795e-01, -1.7105e-01, -6.4473e-01],\n",
       "                        [ 5.6262e-01,  1.0463e-01, -1.0456e-01],\n",
       "                        [ 1.5125e-01,  3.7161e-01, -1.2460e-01]]],\n",
       "              \n",
       "              \n",
       "                      [[[-1.1994e-01, -2.9701e-01, -3.3725e-01],\n",
       "                        [-1.3600e-01, -3.4475e-01, -1.7182e-01],\n",
       "                        [-3.2663e-01, -2.4769e-01,  2.2124e-01]]],\n",
       "              \n",
       "              \n",
       "                      [[[ 1.4130e-01,  4.5426e-01,  2.9262e-01],\n",
       "                        [-5.0698e-01, -4.3635e-01, -3.1536e-01],\n",
       "                        [-3.1248e-01, -3.6615e-01, -5.3605e-01]]],\n",
       "              \n",
       "              \n",
       "                      [[[-8.9442e-03, -1.0307e-02, -4.3477e-02],\n",
       "                        [-1.4722e-01, -2.0250e-01, -2.7488e-01],\n",
       "                        [-9.5176e-02,  8.3751e-02, -2.2450e-01]]],\n",
       "              \n",
       "              \n",
       "                      [[[-2.5684e-01,  3.2237e-01, -4.1226e-02],\n",
       "                        [ 1.0098e-01, -1.7056e-01, -1.3462e-01],\n",
       "                        [-1.4770e-01,  3.3789e-01, -1.5775e-01]]],\n",
       "              \n",
       "              \n",
       "                      [[[ 1.8467e-02,  3.2374e-03,  5.6593e-01],\n",
       "                        [-5.2676e-03,  8.2467e-02,  4.7690e-01],\n",
       "                        [-6.1135e-01, -2.6761e-01, -3.3048e-01]]],\n",
       "              \n",
       "              \n",
       "                      [[[ 3.3630e-01, -3.6389e-01,  1.4376e-01],\n",
       "                        [ 4.7139e-01, -2.2061e-01,  3.3837e-01],\n",
       "                        [ 2.1921e-01,  6.4570e-02, -2.5093e-01]]],\n",
       "              \n",
       "              \n",
       "                      [[[-2.6399e-01,  2.3185e-02,  2.2319e-01],\n",
       "                        [-5.7516e-01,  8.7591e-02,  5.2900e-01],\n",
       "                        [-5.2901e-01, -1.0166e-01,  4.6469e-01]]],\n",
       "              \n",
       "              \n",
       "                      [[[-2.7277e-02,  2.2226e-01,  9.9750e-02],\n",
       "                        [-3.0581e-01, -2.9873e-01,  3.0509e-01],\n",
       "                        [ 3.2199e-02, -1.7908e-01, -1.4548e-01]]],\n",
       "              \n",
       "              \n",
       "                      [[[ 3.5715e-01, -2.9343e-01, -2.1355e-01],\n",
       "                        [-1.4102e-01, -2.7632e-01, -3.1408e-01],\n",
       "                        [ 4.1087e-02, -6.7299e-02, -2.3677e-02]]],\n",
       "              \n",
       "              \n",
       "                      [[[-1.3692e-02, -3.4108e-01, -3.8836e-01],\n",
       "                        [-3.2364e-01, -1.7762e-01, -1.9387e-01],\n",
       "                        [-2.4818e-01,  3.6130e-01,  4.4843e-01]]],\n",
       "              \n",
       "              \n",
       "                      [[[-3.0184e-01,  2.6215e-01,  4.5955e-01],\n",
       "                        [ 2.7896e-01,  4.3047e-01,  1.9354e-01],\n",
       "                        [ 1.5115e-01, -1.8749e-01, -3.9332e-01]]],\n",
       "              \n",
       "              \n",
       "                      [[[ 1.4970e-01,  1.4622e-01, -3.1587e-01],\n",
       "                        [-2.6221e-01,  2.0712e-01,  1.6153e-01],\n",
       "                        [-1.8318e-01,  5.0683e-03,  3.7699e-01]]]], device='cuda:0')),\n",
       "             ('conv1.bias',\n",
       "              tensor([-0.0258, -0.1222, -0.0069, -0.0539,  0.1150,  0.0195, -0.2646, -0.0444,\n",
       "                       0.0155,  0.0304,  0.1342, -0.3162, -0.1188,  0.2728, -0.0036, -0.0722,\n",
       "                       0.1168, -0.0360,  0.2210, -0.1357,  0.4793,  0.5081, -0.1470, -0.1267,\n",
       "                       0.1782, -0.1287, -0.0479, -0.3540,  0.4800,  0.1527, -0.1252, -0.0351],\n",
       "                     device='cuda:0')),\n",
       "             ('conv2.weight',\n",
       "              tensor([[[[ 8.8854e-02,  6.4979e-02,  4.1715e-02],\n",
       "                        [-1.3225e-01, -1.1548e-01, -1.0856e-01],\n",
       "                        [-1.3650e-01, -1.6799e-01, -1.7772e-01]],\n",
       "              \n",
       "                       [[-9.3914e-02, -3.7540e-02, -1.4804e-02],\n",
       "                        [-7.2873e-02, -1.0044e-01,  4.8058e-02],\n",
       "                        [-2.0436e-01, -6.4295e-02, -7.7788e-02]],\n",
       "              \n",
       "                       [[ 7.3040e-03,  4.0220e-02, -1.8257e-02],\n",
       "                        [-6.2977e-02,  5.1677e-02,  6.7151e-02],\n",
       "                        [ 1.3602e-02,  7.3219e-02,  3.1281e-02]],\n",
       "              \n",
       "                       ...,\n",
       "              \n",
       "                       [[ 4.4854e-03, -8.6398e-02, -8.1300e-02],\n",
       "                        [ 2.9782e-02, -7.9653e-03,  4.8825e-03],\n",
       "                        [ 5.2705e-02,  6.1949e-02,  1.1892e-02]],\n",
       "              \n",
       "                       [[-2.4460e-02,  5.3071e-02,  1.3870e-01],\n",
       "                        [-6.4045e-02,  2.8269e-02,  2.3650e-02],\n",
       "                        [-1.1379e-01, -1.4300e-01, -1.1101e-01]],\n",
       "              \n",
       "                       [[-2.0978e-03,  6.4137e-02, -5.4038e-02],\n",
       "                        [-7.1240e-04,  1.3386e-02, -2.7262e-02],\n",
       "                        [-1.1280e-01, -5.0939e-02,  6.2436e-03]]],\n",
       "              \n",
       "              \n",
       "                      [[[-2.4793e-02, -1.8932e-02, -3.8204e-02],\n",
       "                        [ 4.4081e-02,  5.3560e-02,  2.6858e-02],\n",
       "                        [-3.9189e-02,  4.4396e-02, -3.7376e-02]],\n",
       "              \n",
       "                       [[ 1.4983e-02,  2.5636e-02,  2.8280e-02],\n",
       "                        [-5.2518e-02, -1.5324e-02,  4.6377e-02],\n",
       "                        [-4.8675e-02, -3.1845e-03, -3.4346e-03]],\n",
       "              \n",
       "                       [[ 4.1504e-02, -1.6523e-02, -2.3896e-02],\n",
       "                        [-5.5847e-02,  3.5871e-02,  8.8486e-03],\n",
       "                        [ 3.5970e-02, -4.3011e-02,  2.7510e-02]],\n",
       "              \n",
       "                       ...,\n",
       "              \n",
       "                       [[ 7.9976e-03, -2.7930e-02, -3.8801e-02],\n",
       "                        [-4.6704e-02,  2.0013e-02,  5.5735e-02],\n",
       "                        [ 3.2040e-02,  3.3550e-02, -4.3842e-02]],\n",
       "              \n",
       "                       [[-4.0684e-02,  3.0230e-02,  7.8513e-03],\n",
       "                        [ 4.8005e-02, -3.9068e-03, -4.6256e-02],\n",
       "                        [ 1.9013e-02, -4.2881e-02, -5.3168e-02]],\n",
       "              \n",
       "                       [[-5.4891e-02,  5.7968e-03,  2.6543e-02],\n",
       "                        [-3.3656e-02, -1.4280e-02,  4.2694e-03],\n",
       "                        [-4.2902e-02,  4.0756e-02,  4.5325e-03]]],\n",
       "              \n",
       "              \n",
       "                      [[[ 5.0258e-03, -7.1700e-02,  1.0069e-02],\n",
       "                        [ 1.5241e-02,  2.5522e-02,  8.4336e-02],\n",
       "                        [-1.0867e-01, -5.0969e-02,  2.3977e-02]],\n",
       "              \n",
       "                       [[ 3.0431e-02,  2.8729e-02, -6.3832e-02],\n",
       "                        [-2.8891e-02, -5.7540e-02, -6.7806e-02],\n",
       "                        [-2.3115e-02, -4.9033e-02, -4.3572e-02]],\n",
       "              \n",
       "                       [[ 2.1579e-02,  2.6902e-02,  5.5601e-03],\n",
       "                        [ 5.2449e-02,  6.4941e-03,  1.4826e-02],\n",
       "                        [ 2.1031e-02, -2.7221e-02,  3.5903e-03]],\n",
       "              \n",
       "                       ...,\n",
       "              \n",
       "                       [[-6.0393e-02, -6.5770e-02,  1.3485e-02],\n",
       "                        [-3.9516e-02, -7.6928e-02, -7.4402e-03],\n",
       "                        [-8.2628e-03, -8.4975e-02, -6.8078e-02]],\n",
       "              \n",
       "                       [[ 8.9111e-02,  5.9896e-02, -3.6917e-02],\n",
       "                        [ 4.2269e-02, -6.2194e-03,  9.2077e-02],\n",
       "                        [-3.8439e-02,  8.8212e-02,  1.1230e-01]],\n",
       "              \n",
       "                       [[ 4.3994e-02,  1.9170e-02,  2.5198e-02],\n",
       "                        [ 6.7492e-03, -1.8289e-02,  8.6651e-03],\n",
       "                        [-7.7782e-04,  4.2533e-02,  8.9999e-02]]],\n",
       "              \n",
       "              \n",
       "                      ...,\n",
       "              \n",
       "              \n",
       "                      [[[ 4.0543e-02, -1.0264e-01, -2.7346e-02],\n",
       "                        [-6.4358e-02, -1.3247e-02,  5.1790e-02],\n",
       "                        [ 4.0145e-02,  5.0412e-02,  8.8031e-02]],\n",
       "              \n",
       "                       [[ 2.3224e-03,  1.5180e-02,  5.2688e-02],\n",
       "                        [ 4.2787e-02,  7.9655e-02, -2.8294e-02],\n",
       "                        [-5.4887e-02, -1.7488e-02, -7.2160e-02]],\n",
       "              \n",
       "                       [[ 1.7301e-02,  2.2378e-02, -2.6787e-02],\n",
       "                        [-4.8167e-02, -5.3261e-02,  4.6794e-02],\n",
       "                        [-3.8126e-02, -4.2968e-02, -1.5089e-04]],\n",
       "              \n",
       "                       ...,\n",
       "              \n",
       "                       [[ 2.7579e-04, -4.4604e-02, -2.1687e-02],\n",
       "                        [-3.7425e-02, -3.6293e-02,  3.7911e-03],\n",
       "                        [-1.6976e-02, -5.6430e-02, -5.0338e-02]],\n",
       "              \n",
       "                       [[ 8.8495e-02,  3.8205e-02,  3.1629e-02],\n",
       "                        [ 5.7780e-02, -7.9516e-02, -8.5752e-02],\n",
       "                        [-6.6083e-02, -7.5851e-02, -1.1291e-02]],\n",
       "              \n",
       "                       [[-2.8342e-02, -8.4799e-02,  1.3656e-02],\n",
       "                        [-2.2146e-02, -1.4263e-02, -3.8323e-02],\n",
       "                        [ 5.5929e-02,  6.1259e-02, -1.3641e-02]]],\n",
       "              \n",
       "              \n",
       "                      [[[ 2.5257e-02, -7.2648e-02, -6.5998e-02],\n",
       "                        [ 1.9877e-02,  2.0125e-02, -5.6507e-02],\n",
       "                        [-5.1584e-03, -6.1793e-02, -2.2437e-02]],\n",
       "              \n",
       "                       [[ 9.5632e-02,  6.8091e-02, -4.9609e-02],\n",
       "                        [ 1.6246e-02, -3.8738e-02, -6.3575e-02],\n",
       "                        [-1.9853e-02, -7.4235e-02, -6.2423e-03]],\n",
       "              \n",
       "                       [[ 2.2410e-02, -1.1843e-02, -5.6008e-02],\n",
       "                        [-4.0336e-02,  2.2702e-02,  5.2004e-02],\n",
       "                        [ 5.7365e-03, -3.6911e-02, -5.6997e-02]],\n",
       "              \n",
       "                       ...,\n",
       "              \n",
       "                       [[-4.3316e-02, -4.1263e-02, -4.0436e-02],\n",
       "                        [-4.0283e-02,  3.3917e-02,  1.0229e-02],\n",
       "                        [-5.0605e-02,  9.5705e-03,  5.1461e-02]],\n",
       "              \n",
       "                       [[ 8.6801e-02,  7.6459e-03, -1.9611e-02],\n",
       "                        [ 5.1821e-02, -8.0659e-02,  2.0201e-02],\n",
       "                        [ 2.8872e-03, -1.4871e-02,  1.0386e-02]],\n",
       "              \n",
       "                       [[-4.2685e-02,  4.5546e-02, -4.5975e-03],\n",
       "                        [-1.4569e-02,  5.0760e-02, -3.5976e-02],\n",
       "                        [ 2.6799e-02,  7.2042e-03, -3.4450e-02]]],\n",
       "              \n",
       "              \n",
       "                      [[[ 7.1141e-02,  1.0175e-01,  1.8435e-02],\n",
       "                        [-1.0756e-02,  1.2662e-01, -1.3301e-02],\n",
       "                        [ 6.2121e-02,  1.2299e-01,  5.2838e-03]],\n",
       "              \n",
       "                       [[-7.2485e-02, -8.6358e-02,  1.0469e-01],\n",
       "                        [ 3.6679e-03,  2.2603e-03, -2.3835e-02],\n",
       "                        [-1.0705e-01,  5.6540e-03,  4.7316e-02]],\n",
       "              \n",
       "                       [[ 3.4211e-03,  7.3826e-03, -3.3076e-02],\n",
       "                        [-5.1666e-02, -8.5956e-03, -8.1743e-02],\n",
       "                        [-7.1513e-02, -4.7883e-02, -5.0205e-02]],\n",
       "              \n",
       "                       ...,\n",
       "              \n",
       "                       [[-4.9266e-02, -1.4153e-02, -1.2248e-01],\n",
       "                        [ 5.4479e-04, -1.1307e-01, -2.9993e-03],\n",
       "                        [-3.5820e-02,  9.7025e-03, -3.4955e-02]],\n",
       "              \n",
       "                       [[-1.6629e-01, -1.8516e-02,  1.6949e-01],\n",
       "                        [-8.0408e-02, -2.1117e-02,  2.3390e-02],\n",
       "                        [-7.3238e-02, -4.9995e-02,  2.7583e-02]],\n",
       "              \n",
       "                       [[-5.0217e-02, -2.1114e-02, -6.8712e-03],\n",
       "                        [-1.9615e-02,  5.5386e-03,  6.5397e-02],\n",
       "                        [ 6.0505e-02,  3.1311e-02,  2.3274e-02]]]], device='cuda:0')),\n",
       "             ('conv2.bias',\n",
       "              tensor([-0.0416, -0.0140, -0.0808, -0.0302,  0.0299, -0.0079, -0.1055, -0.0476,\n",
       "                       0.0007, -0.1574, -0.0349,  0.0230, -0.0677, -0.0478, -0.0344, -0.0283,\n",
       "                      -0.0524, -0.0655, -0.0524, -0.0301,  0.0151, -0.0161, -0.0443, -0.0641,\n",
       "                      -0.0307, -0.0859, -0.0599, -0.0053, -0.0207, -0.0378, -0.0777, -0.0397,\n",
       "                       0.0096, -0.0446, -0.0648, -0.0864, -0.0616,  0.0415,  0.0038,  0.0302,\n",
       "                      -0.0084, -0.0608, -0.0527,  0.0081, -0.0297, -0.0914, -0.0325, -0.0232,\n",
       "                       0.0456, -0.0348, -0.0099, -0.1072, -0.0787, -0.0179, -0.0661,  0.0495,\n",
       "                      -0.0303, -0.0599, -0.0431, -0.1189, -0.1079, -0.0361, -0.0485, -0.0911],\n",
       "                     device='cuda:0')),\n",
       "             ('fc1.weight',\n",
       "              tensor([[ 0.0014,  0.0047, -0.0029,  ..., -0.0029,  0.0090, -0.0024],\n",
       "                      [ 0.0083,  0.0005, -0.0045,  ...,  0.0024, -0.0069, -0.0066],\n",
       "                      [ 0.0017, -0.0022,  0.0074,  ..., -0.0070,  0.0037, -0.0025],\n",
       "                      ...,\n",
       "                      [-0.0091, -0.0034,  0.0068,  ...,  0.0074,  0.0014,  0.0020],\n",
       "                      [-0.0055,  0.0013, -0.0024,  ..., -0.0059, -0.0035,  0.0073],\n",
       "                      [ 0.0062,  0.0038, -0.0049,  ...,  0.0079, -0.0063, -0.0031]],\n",
       "                     device='cuda:0')),\n",
       "             ('fc1.bias',\n",
       "              tensor([-1.9763e-02, -5.6930e-02,  1.4259e-02,  1.8919e-02,  3.2516e-02,\n",
       "                      -1.2344e-02, -5.7628e-02, -2.4524e-02, -3.6107e-02, -4.9512e-02,\n",
       "                       3.8497e-03,  2.8111e-02,  1.7165e-02, -2.3731e-03, -1.1959e-02,\n",
       "                       3.0853e-02,  1.2617e-02, -4.0155e-02, -2.2124e-02,  1.2873e-03,\n",
       "                      -6.0313e-02,  1.3628e-02, -2.2915e-02, -5.3946e-02, -2.2274e-02,\n",
       "                       2.6184e-02,  3.7081e-03,  1.5322e-02, -5.3967e-03, -8.3843e-03,\n",
       "                       2.5462e-02, -7.6217e-03,  1.3242e-02,  2.0838e-03, -3.6992e-02,\n",
       "                       2.7247e-02, -1.8766e-02, -4.2523e-02,  8.8377e-03,  3.5359e-02,\n",
       "                       2.2212e-02,  5.7641e-04,  7.0463e-02,  1.2247e-02,  9.1696e-03,\n",
       "                      -3.5289e-02,  6.9616e-02, -8.5600e-03, -4.5940e-02,  1.9789e-03,\n",
       "                       2.3340e-02, -1.3330e-02, -1.9182e-03, -4.1291e-02, -1.4990e-02,\n",
       "                       1.4663e-02, -1.2171e-02,  4.6658e-03, -4.6691e-02, -9.4658e-02,\n",
       "                      -5.8025e-02,  3.7776e-02,  1.8404e-02,  2.1022e-02, -2.3874e-03,\n",
       "                       3.1274e-02, -1.0704e-02, -1.3239e-02,  2.2898e-02, -1.4997e-05,\n",
       "                      -2.9924e-02, -8.9748e-02,  2.9460e-04,  4.5641e-03,  5.6586e-02,\n",
       "                       1.6753e-02, -1.0867e-03,  1.9407e-02, -9.3771e-03,  1.0049e-02,\n",
       "                       9.6462e-03, -4.3015e-03, -1.6510e-04,  5.4700e-03, -4.2093e-02,\n",
       "                       4.1789e-03, -1.2036e-02,  3.2045e-02,  4.0391e-02,  2.3921e-02,\n",
       "                       2.9046e-02, -1.1925e-02,  1.6558e-02,  1.5424e-02,  3.7448e-02,\n",
       "                      -4.3160e-02, -7.0575e-03,  6.1587e-04,  3.6202e-02, -6.4460e-03,\n",
       "                       2.3129e-02, -5.7959e-02, -6.0083e-02,  4.3634e-02, -4.7343e-03,\n",
       "                      -2.8700e-03,  2.4872e-02, -6.4547e-02, -4.1698e-03, -1.5892e-04,\n",
       "                       3.8924e-02, -1.4370e-02,  2.0920e-02, -6.7060e-03, -9.3895e-03,\n",
       "                       8.6051e-03, -7.4440e-02, -1.9413e-03,  4.7050e-03,  1.8312e-02,\n",
       "                       7.3303e-03, -9.2983e-02,  2.6510e-02, -7.2407e-04,  1.3576e-02,\n",
       "                       1.2250e-02, -5.8811e-03, -4.9130e-02], device='cuda:0')),\n",
       "             ('fc2.weight',\n",
       "              tensor([[-0.1538,  0.1712, -0.2273,  ...,  0.1260, -0.0780, -0.0619],\n",
       "                      [-0.1134, -0.1187,  0.3570,  ..., -0.0049, -0.0885, -0.1544],\n",
       "                      [ 0.0251, -0.1214, -0.2940,  ..., -0.0644, -0.0958,  0.0184],\n",
       "                      ...,\n",
       "                      [-0.0224, -0.2533, -0.1279,  ..., -0.0089, -0.1455, -0.3406],\n",
       "                      [-0.1987,  0.2273, -0.1270,  ..., -0.1395, -0.0754,  0.2250],\n",
       "                      [ 0.3041, -0.2636,  0.1599,  ...,  0.0321,  0.0955,  0.1888]],\n",
       "                     device='cuda:0')),\n",
       "             ('fc2.bias',\n",
       "              tensor([-0.0916,  0.2998, -0.0273, -0.0086, -0.1148, -0.0351, -0.1036, -0.0955,\n",
       "                       0.0753, -0.0007], device='cuda:0'))])"
      ]
     },
     "execution_count": 27,
     "metadata": {},
     "output_type": "execute_result"
    }
   ],
   "source": [
    "model.state_dict(check_model['state_dict'])"
   ]
  },
  {
   "cell_type": "code",
   "execution_count": 28,
   "id": "7bacbdfd-03f4-45b2-8833-f611f30c40c9",
   "metadata": {},
   "outputs": [
    {
     "name": "stdout",
     "output_type": "stream",
     "text": [
      "Aniqlik : 0.9882000088691711, Foizda 98.81999969482422%\n",
      "Aniqlik : 0.9876000285148621, Foizda 98.76000213623047%\n",
      "Aniqlik : 0.9887999892234802, Foizda 98.87999725341797%\n",
      "Aniqlik : 0.9904999732971191, Foizda 99.05000305175781%\n",
      "Aniqlik : 0.9905999898910522, Foizda 99.05999755859375%\n",
      "Aniqlik : 0.9902999997138977, Foizda 99.02999877929688%\n",
      "Aniqlik : 0.9901999831199646, Foizda 99.0199966430664%\n",
      "Aniqlik : 0.9908000230789185, Foizda 99.08000183105469%\n",
      "Aniqlik : 0.9915000200271606, Foizda 99.1500015258789%\n",
      "Aniqlik : 0.9919999837875366, Foizda 99.19999694824219%\n"
     ]
    }
   ],
   "source": [
    "epochs = 10\n",
    "for epoch in range(epochs):\n",
    "    train(epoch)\n",
    "    test()\n",
    "    torch.save({'state_dict' : model.state_dict(), 'epoch' : epoch } , 'torch_checkpoint.pth.tar')"
   ]
  }
 ],
 "metadata": {
  "kernelspec": {
   "display_name": "convert",
   "language": "python",
   "name": "convert"
  },
  "language_info": {
   "codemirror_mode": {
    "name": "ipython",
    "version": 3
   },
   "file_extension": ".py",
   "mimetype": "text/x-python",
   "name": "python",
   "nbconvert_exporter": "python",
   "pygments_lexer": "ipython3",
   "version": "3.9.17"
  }
 },
 "nbformat": 4,
 "nbformat_minor": 5
}
